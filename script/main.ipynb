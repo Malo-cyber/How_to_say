{
 "cells": [
  {
   "cell_type": "code",
   "execution_count": 6,
   "id": "0d7919f2-4af9-436d-a4ee-66350283948a",
   "metadata": {},
   "outputs": [
    {
     "name": "stdout",
     "output_type": "stream",
     "text": [
      "main.ipynb\n"
     ]
    }
   ],
   "source": []
  },
  {
   "cell_type": "code",
   "execution_count": 14,
   "id": "be922bba-34bb-4790-bc4f-4cfc93ea6fe2",
   "metadata": {},
   "outputs": [
    {
     "name": "stdout",
     "output_type": "stream",
     "text": [
      "[Errno 2] No such file or directory: 'desktop'\n",
      "/Users/malorycouvet/Desktop/Bureau - MacBook Air de malory/Python/HowToSay/script\n"
     ]
    }
   ],
   "source": [
    "cd desktop\n"
   ]
  },
  {
   "cell_type": "code",
   "execution_count": null,
   "id": "c69693b1-1fa7-4b1c-bd15-9ff12f98a8a0",
   "metadata": {},
   "outputs": [],
   "source": [
    "cd /Desktop/Bureau - MacBook Air de malory/Python/HowToSay"
   ]
  },
  {
   "cell_type": "code",
   "execution_count": 22,
   "id": "3ed4c6e6-1513-4b42-91fa-62ca9bcacaeb",
   "metadata": {},
   "outputs": [],
   "source": [
    "import googletrans\n",
    "from googletrans import Translator\n",
    "\n",
    "class Quote:\n",
    "    def __init__(self, language, content, definition='', \n",
    "                 prononciation='',location='',diff=0, \n",
    "                 context=[],synonym=[],learn=False, management = 0):\n",
    "        \n",
    "        self.__language = language\n",
    "        self.__content = content\n",
    "        self.__definition = definition\n",
    "        self.__prononciation = prononciation\n",
    "        self.__location = location\n",
    "        self.__diff = diff\n",
    "        self.__context = context\n",
    "        self.__synonym = synonym\n",
    "        self.__learn = learn\n",
    "        self.__management = management \n",
    "        \n",
    "    @property\n",
    "    def language(self):\n",
    "        return self.__language\n",
    "    @language.setter\n",
    "    def language(self, language):\n",
    "        self.__language = language\n",
    "\n",
    "    @property\n",
    "    def content(self):\n",
    "        return self.__content\n",
    "    @content.setter\n",
    "    def content(self, content):\n",
    "        self.__content = content\n",
    "        \n",
    "    @property\n",
    "    def definition(self):\n",
    "        return self.__definition\n",
    "    @definition.setter\n",
    "    def definition(self, definition):\n",
    "        self.__definition = definition\n",
    "        \n",
    "    @property\n",
    "    def prononciation(self):\n",
    "        return self.__prononciation\n",
    "    @prononciation.setter\n",
    "    def prononciation(self, prononciation):\n",
    "        self.__prononciation = prononciation\n",
    "        \n",
    "    @property\n",
    "    def location(self):\n",
    "        return self.__location\n",
    "    @location.setter\n",
    "    def location(self, location):\n",
    "        self.__location = location\n",
    "    \n",
    "    @property\n",
    "    def diff(self):\n",
    "        return self.__diff\n",
    "    @diff.setter\n",
    "    def diff(self, diff):\n",
    "        self.__diff = diff\n",
    "    \n",
    "    @property\n",
    "    def context(self):\n",
    "        return self.__context\n",
    "    @context.setter\n",
    "    def context(self, context):\n",
    "        self.__context = context\n",
    "        \n",
    "    @property\n",
    "    def synonym(self):\n",
    "        return self.__synonym\n",
    "    @synonym.setter\n",
    "    def synonym(self, synonym):\n",
    "        self.__synonym = synonym\n",
    "        \n",
    "    @property\n",
    "    def learn(self):\n",
    "        return self.__learn\n",
    "    @learn.setter\n",
    "    def learn(self, learn):\n",
    "        self.__learn = learn\n",
    "    \n",
    "    @property\n",
    "    def management(self):\n",
    "        return self.__management\n",
    "    @management.setter\n",
    "    def management(self, management):\n",
    "        self.__management = management\n",
    "    \n",
    "        \n",
    "    def quote_overview(self):\n",
    "        print(f'Langue : {self.language}')\n",
    "        print(f'Contenue : {self.content}')\n",
    "        print(f'definition : {self.definition}')\n",
    "        print(f'prononciation : {self.prononciation}')\n",
    "        print(f'Location : {self.location}')\n",
    "        print(f'Difficulte : {self.diff}')\n",
    "        print(f'synonym : {self.synonym}')\n",
    "        print(f'learn : {self.learn}')\n",
    "        print(f'management : {self.management}')\n",
    "    \n",
    "    def get_trans(self, content, dest):\n",
    "        import googletrans\n",
    "        from googletrans import Translator\n",
    "    \n",
    "        translator = Translator()\n",
    "        result = translator.translate(content, dest=dest)\n",
    "        \n",
    "        return result\n",
    "    "
   ]
  },
  {
   "cell_type": "code",
   "execution_count": 25,
   "id": "0e9eb7f6-361b-4d80-8b59-8dc0b29ac2e8",
   "metadata": {},
   "outputs": [],
   "source": [
    "bonjour = Quote('fr', 'bonjour', 'souhaiter une bonne journee', 'bonjour','dans ton cul',0, ['Salutation','Presentation'],['Salut','Hey','bonsoir','bonne nuit'],True,0)\n"
   ]
  },
  {
   "cell_type": "code",
   "execution_count": 26,
   "id": "bcfc9ce0-a4d6-4b0e-adbf-f264f94083a6",
   "metadata": {},
   "outputs": [
    {
     "name": "stdout",
     "output_type": "stream",
     "text": [
      "Langue : fr\n",
      "Contenue : bonjour\n",
      "definition : souhaiter une bonne journee\n",
      "prononciation : bonjour\n",
      "Location : dans ton cul\n",
      "Difficulte : 0\n",
      "synonym : ['Salut', 'Hey', 'bonsoir', 'bonne nuit']\n",
      "learn : True\n",
      "management : 0\n"
     ]
    }
   ],
   "source": [
    "bonjour.quote_overview()"
   ]
  },
  {
   "cell_type": "code",
   "execution_count": 111,
   "id": "ecffe85a-0ca2-4171-b5c7-f38eb98e10b4",
   "metadata": {},
   "outputs": [],
   "source": [
    "class dictionnaire:\n",
    "    def __init__(self,src,target):\n",
    "        self.__src = src\n",
    "        self.__target = target\n",
    "        self.__content = [[],[]]\n",
    "        \n",
    "    @property\n",
    "    def src(self):\n",
    "        return self.__src\n",
    "    @src.setter\n",
    "    def src(self, src):\n",
    "        self.__src = src\n",
    "        \n",
    "    @property\n",
    "    def target(self):\n",
    "        return self.__target\n",
    "    @target.setter\n",
    "    def target(self, target):\n",
    "        self.__target = target\n",
    "        \n",
    "    def construct_from_csv():\n",
    "        \n",
    "\n",
    "    \n",
    "    \n",
    "        \n",
    "        \n",
    "        "
   ]
  },
  {
   "cell_type": "code",
   "execution_count": 220,
   "id": "e93dd24f-0149-4ac9-b458-5c65023b755b",
   "metadata": {},
   "outputs": [],
   "source": [
    "import os\n",
    "from os import listdir\n",
    "from os.path import isfile, join\n",
    "import pandas as pd\n",
    "\n",
    "content = pd.DataFrame(columns = ['src','trg','ctxt'])\n",
    "\n",
    "def read_files(file_path):\n",
    "   with open(file_path, 'r') as file:\n",
    "      return file.read()\n",
    "\n",
    "def extract_data_from_file(filename):\n",
    "    \n",
    "    src_content = []\n",
    "    target_content = []  \n",
    "    context = []\n",
    "\n",
    "    result = read_files(filename)\n",
    "    result = result.split('\\n')\n",
    "    for e in result:\n",
    "        liste = e.partition(':')\n",
    "        src_content.append(liste[0].strip())\n",
    "        target_content.append(liste[2].strip())\n",
    "        context.append(filename.replace('.txt',''))\n",
    "\n",
    "    result = [src_content,target_content,context]\n",
    "    data = pd.DataFrame(result, index = ['src','trg','ctxt'])\n",
    "    data = data.transpose()\n",
    "    \n",
    "    return data\n",
    "\n",
    "\n",
    "for file in os.listdir():\n",
    "    if file.endswith('.txt'):\n",
    "        curent_content = extract_data_from_file(file)\n",
    "        content = pd.concat([curent_content,content])\n",
    "\n",
    "content.to_csv('dico_slovene_french',sep)\n",
    "        \n",
    "        "
   ]
  },
  {
   "cell_type": "code",
   "execution_count": 11,
   "id": "8436bc5b-1733-405c-986a-98f3656d7f90",
   "metadata": {},
   "outputs": [
    {
     "data": {
      "text/plain": [
       "'pied'"
      ]
     },
     "execution_count": 11,
     "metadata": {},
     "output_type": "execute_result"
    }
   ],
   "source": [
    "from translate import Translator\n",
    "translator = Translator(provider='mymemory', to_lang  = 'en')\n",
    "translator.translate('pied')\n"
   ]
  },
  {
   "cell_type": "code",
   "execution_count": 221,
   "id": "422c005d-4815-4ba1-95d6-80e65ea56ee1",
   "metadata": {},
   "outputs": [
    {
     "name": "stdout",
     "output_type": "stream",
     "text": [
      "Collecting translate\n",
      "  Downloading translate-3.6.1-py2.py3-none-any.whl (12 kB)\n",
      "Requirement already satisfied: requests in /Users/malorycouvet/opt/anaconda3/lib/python3.9/site-packages (from translate) (2.27.1)\n",
      "Requirement already satisfied: click in /Users/malorycouvet/opt/anaconda3/lib/python3.9/site-packages (from translate) (8.0.4)\n",
      "Collecting libretranslatepy==2.1.1\n",
      "  Downloading libretranslatepy-2.1.1-py3-none-any.whl (3.2 kB)\n",
      "Requirement already satisfied: lxml in /Users/malorycouvet/opt/anaconda3/lib/python3.9/site-packages (from translate) (4.8.0)\n",
      "Requirement already satisfied: certifi>=2017.4.17 in /Users/malorycouvet/opt/anaconda3/lib/python3.9/site-packages (from requests->translate) (2021.10.8)\n",
      "Requirement already satisfied: idna<4,>=2.5 in /Users/malorycouvet/opt/anaconda3/lib/python3.9/site-packages (from requests->translate) (2.10)\n",
      "Requirement already satisfied: urllib3<1.27,>=1.21.1 in /Users/malorycouvet/opt/anaconda3/lib/python3.9/site-packages (from requests->translate) (1.26.9)\n",
      "Requirement already satisfied: charset-normalizer~=2.0.0 in /Users/malorycouvet/opt/anaconda3/lib/python3.9/site-packages (from requests->translate) (2.0.4)\n",
      "Installing collected packages: libretranslatepy, translate\n",
      "Successfully installed libretranslatepy-2.1.1 translate-3.6.1\n",
      "Note: you may need to restart the kernel to use updated packages.\n"
     ]
    }
   ],
   "source": [
    "pip install translate"
   ]
  },
  {
   "cell_type": "code",
   "execution_count": 203,
   "id": "ebdb3e1a-7965-4148-8ea4-6cd8d69652ec",
   "metadata": {},
   "outputs": [
    {
     "name": "stdout",
     "output_type": "stream",
     "text": [
      "        freq\n",
      "word        \n",
      "apple      2\n",
      "banana     4\n"
     ]
    }
   ],
   "source": [
    "import pandas as pd\n",
    " \n",
    "d1 = pd.DataFrame([['apple', 1], ['banana', 2]],\n",
    "                  columns=['word', 'freq'])\n",
    "d2 = pd.DataFrame([['apple', 1], ['banana', 2]],\n",
    "                  columns=['word', 'freq'])\n",
    "d = pd.concat([d1, d2])\n",
    "d = d.groupby('word').sum()\n",
    "print(d)"
   ]
  },
  {
   "cell_type": "code",
   "execution_count": null,
   "id": "8c17dd1b-536e-4544-8675-16e58ea2144b",
   "metadata": {},
   "outputs": [],
   "source": []
  }
 ],
 "metadata": {
  "kernelspec": {
   "display_name": "Python 3 (ipykernel)",
   "language": "python",
   "name": "python3"
  },
  "language_info": {
   "codemirror_mode": {
    "name": "ipython",
    "version": 3
   },
   "file_extension": ".py",
   "mimetype": "text/x-python",
   "name": "python",
   "nbconvert_exporter": "python",
   "pygments_lexer": "ipython3",
   "version": "3.9.12"
  }
 },
 "nbformat": 4,
 "nbformat_minor": 5
}
